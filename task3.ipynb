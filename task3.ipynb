{
 "cells": [
  {
   "cell_type": "code",
   "execution_count": 1,
   "metadata": {},
   "outputs": [],
   "source": [
    "import pandas as pd\n",
    "import matplotlib.pyplot as plt\n",
    "import numpy as np\n",
    "import seaborn as sns"
   ]
  },
  {
   "cell_type": "markdown",
   "metadata": {},
   "source": [
    "# 任务3.1"
   ]
  },
  {
   "cell_type": "code",
   "execution_count": 2,
   "metadata": {},
   "outputs": [],
   "source": [
    "def Order_label(dflist):\n",
    "    '''\n",
    "    得到每台售货机饮料商品的销量标签\n",
    "    '''\n",
    "    Drinks = []\n",
    "    for df in dflist:\n",
    "        for i in category_one:\n",
    "            df.loc[df['商品']==i,'大类'] =  category_one[i]\n",
    "            df_drinks = df[df[\"大类\"] == '饮料']\n",
    "            drinks = df_drinks[['订单号']].groupby(df_drinks['商品']).count()\n",
    "            allorder = drinks[\"订单号\"].sum() #得到饮料商品的总订单量\n",
    "            drinks[\"订单占比\"] = drinks[\"订单号\"]/allorder #计算每款饮料占总订单的比例\n",
    "            drinks['标签'] = \"正常\"\n",
    "            drinks.loc[drinks[\"订单占比\"]>=0.01,'标签'] = '热销'\n",
    "            drinks.loc[drinks[\"订单占比\"]<=0.005,'标签'] = '滞销'\n",
    "            del drinks['订单号'] \n",
    "            del drinks['订单占比'] \n",
    "            drinks_1 = drinks.reset_index()\n",
    "            drinks_1.rename(columns={'商品':'饮料类商品'}, inplace = True) \n",
    "        Drinks.append(drinks_1)\n",
    "    return Drinks        "
   ]
  },
  {
   "cell_type": "code",
   "execution_count": 3,
   "metadata": {},
   "outputs": [],
   "source": [
    "A=pd.read_csv('./task-1A.csv',encoding=\"gbk\")\n",
    "B=pd.read_csv('./task-1B.csv',encoding=\"gbk\")\n",
    "C=pd.read_csv('./task-1C.csv',encoding=\"gbk\")\n",
    "D=pd.read_csv('./task-1D.csv',encoding=\"gbk\")\n",
    "E=pd.read_csv('./task-1E.csv',encoding=\"gbk\")\n",
    "label=pd.read_csv('./附件2.csv',encoding=\"gbk\")\n",
    "\n",
    "dflist = [A,B,C,D,E]"
   ]
  },
  {
   "cell_type": "code",
   "execution_count": 4,
   "metadata": {},
   "outputs": [],
   "source": [
    "category_one = dict()\n",
    "category_two= dict()\n",
    "for _, row in label.iterrows():\n",
    "    foodname, category_1, category_2 = row\n",
    "    category_one.update({str(foodname): category_1})\n",
    "    category_two.update({str(foodname): category_2})\n",
    "\n",
    "Drinks = Order_label(dflist)\n",
    "\n",
    "Drinks[0].to_csv(\"./task3-1A.csv\",encoding=\"gbk\")\n",
    "Drinks[1].to_csv(\"./task3-1B.csv\",encoding=\"gbk\")\n",
    "Drinks[2].to_csv(\"./task3-1C.csv\",encoding=\"gbk\")\n",
    "Drinks[3].to_csv(\"./task3-1D.csv\",encoding=\"gbk\")\n",
    "Drinks[4].to_csv(\"./task3-1E.csv\",encoding=\"gbk\")"
   ]
  },
  {
   "cell_type": "markdown",
   "metadata": {},
   "source": [
    "# 任务3.2"
   ]
  },
  {
   "cell_type": "code",
   "execution_count": 5,
   "metadata": {},
   "outputs": [],
   "source": [
    "def Price_label(dflist):\n",
    "    '''\n",
    "    得到每台售货机饮料商品的价格标签\n",
    "    '''\n",
    "    Drinks = []\n",
    "    for df in dflist:\n",
    "        for i in category_one:\n",
    "            df.loc[df['商品']==i,'大类'] =  category_one[i]\n",
    "            df_drinks = df[df[\"大类\"] == '饮料']\n",
    "            drinks = df_drinks[['应付金额']].groupby(df_drinks['商品']).mean()\n",
    "            drinks['价格'] = \"价格一般\"\n",
    "            drinks.loc[drinks[\"应付金额\"]>=7,'价格'] = '价格高'\n",
    "            drinks.loc[drinks[\"应付金额\"]<=3,'价格'] = '价格低'    \n",
    "            del drinks['应付金额'] \n",
    "            drinks_1 = drinks.reset_index()\n",
    "            drinks_1.rename(columns={'商品':'商品'}, inplace = True) \n",
    "        Drinks.append(drinks_1)\n",
    "    return Drinks        "
   ]
  },
  {
   "cell_type": "code",
   "execution_count": 6,
   "metadata": {},
   "outputs": [],
   "source": [
    "def Price_label_1(dflist):\n",
    "    '''\n",
    "    得到每台售货机非饮料商品的价格标签\n",
    "    '''\n",
    "    Nodrinks = []\n",
    "    for df in dflist:\n",
    "        for i in category_one:\n",
    "            df.loc[df['商品']==i,'大类'] =  category_one[i]\n",
    "            df_drinks = df[df[\"大类\"] == '非饮料']\n",
    "            drinks = df_drinks[['应付金额']].groupby(df_drinks['商品']).mean()\n",
    "            drinks['价格'] = \"价格一般\"\n",
    "            drinks.loc[drinks[\"应付金额\"]>=10,'价格'] = '价格高'\n",
    "            drinks.loc[drinks[\"应付金额\"]<=5,'价格'] = '价格低'    \n",
    "            del drinks['应付金额'] \n",
    "            drinks_1 = drinks.reset_index()\n",
    "            drinks_1.rename(columns={'商品':'商品'}, inplace = True) \n",
    "        Nodrinks.append(drinks_1)\n",
    "    return Nodrinks        "
   ]
  },
  {
   "cell_type": "code",
   "execution_count": 7,
   "metadata": {},
   "outputs": [],
   "source": [
    "def Order_label_1(dflist):\n",
    "    '''\n",
    "    得到每台售货机饮非料商品的销量标签\n",
    "    '''\n",
    "    Nodrinks = []\n",
    "    for df in dflist:\n",
    "        for i in category_one:\n",
    "            df.loc[df['商品']==i,'大类'] =  category_one[i]\n",
    "            df_drinks = df[df[\"大类\"] == '非饮料']\n",
    "            drinks = df_drinks[['订单号']].groupby(df_drinks['商品']).count()\n",
    "            allorder = drinks[\"订单号\"].sum() #得到饮料商品的总订单量\n",
    "            drinks[\"订单占比\"] = drinks[\"订单号\"]/allorder #计算每款饮料占总订单的比例\n",
    "            drinks['标签'] = \"正常\"\n",
    "            drinks.loc[drinks[\"订单占比\"]>=0.01,'标签'] = '热销'\n",
    "            drinks.loc[drinks[\"订单占比\"]<=0.005,'标签'] = '滞销'\n",
    "            del drinks['订单号'] \n",
    "            del drinks['订单占比'] \n",
    "            drinks_1 = drinks.reset_index()\n",
    "            drinks_1.rename(columns={'商品':'商品'}, inplace = True) \n",
    "        Nodrinks.append(drinks_1)\n",
    "    return Nodrinks        "
   ]
  },
  {
   "cell_type": "code",
   "execution_count": 10,
   "metadata": {},
   "outputs": [],
   "source": [
    "Data1 = Price_label(dflist)\n",
    "Data2 = Order_label_1(dflist)\n",
    "Data3 = Price_label_1(dflist)\n",
    "\n",
    "data4 = []\n",
    "for i in range(5):\n",
    "    Drinks[i].rename(columns={'饮料类商品':'商品'}, inplace = True) \n",
    "    data0 = pd.concat([Drinks[i],Data2[i]]) \n",
    "    data1 = pd.concat([Data1[i],Data3[i]]) \n",
    "    data2 = pd.merge(data0,data1) \n",
    "    data4.append(data2)\n",
    "    \n",
    "data4[0].to_csv(\"./task3-2A.csv\",encoding=\"gbk\")\n",
    "data4[1].to_csv(\"./task3-2B.csv\",encoding=\"gbk\")\n",
    "data4[2].to_csv(\"./task3-2C.csv\",encoding=\"gbk\")\n",
    "data4[3].to_csv(\"./task3-2D.csv\",encoding=\"gbk\")\n",
    "data4[4].to_csv(\"./task3-2E.csv\",encoding=\"gbk\")"
   ]
  },
  {
   "cell_type": "code",
   "execution_count": null,
   "metadata": {},
   "outputs": [],
   "source": []
  }
 ],
 "metadata": {
  "kernelspec": {
   "display_name": "Python 3",
   "language": "python",
   "name": "python3"
  },
  "language_info": {
   "codemirror_mode": {
    "name": "ipython",
    "version": 3
   },
   "file_extension": ".py",
   "mimetype": "text/x-python",
   "name": "python",
   "nbconvert_exporter": "python",
   "pygments_lexer": "ipython3",
   "version": "3.6.6"
  }
 },
 "nbformat": 4,
 "nbformat_minor": 2
}
